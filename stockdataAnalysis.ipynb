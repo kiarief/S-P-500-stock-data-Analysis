{
 "cells": [
  {
   "cell_type": "code",
   "execution_count": 1,
   "metadata": {},
   "outputs": [
    {
     "name": "stderr",
     "output_type": "stream",
     "text": [
      "C:\\Users\\Fknjoroge\\AppData\\Local\\Continuum\\anaconda3\\lib\\site-packages\\statsmodels\\compat\\pandas.py:49: FutureWarning: The Panel class is removed from pandas. Accessing it from the top-level namespace will also be removed in the next version\n",
      "  data_klasses = (pandas.Series, pandas.DataFrame, pandas.Panel)\n"
     ]
    }
   ],
   "source": [
    "#Data Preparation Libraries\n",
    "import pandas as pd\n",
    "import numpy as np\n",
    "import datetime\n",
    "\n",
    "#data Visualisation Libraries\n",
    "import matplotlib.pyplot as plt \n",
    "import seaborn as sns\n",
    "%matplotlib inline\n",
    "\n",
    "#machine Learning Libraries\n",
    "mport random \n",
    "\n",
    "from fbprophet import Prophet\n",
    "from statsmodels.tsa.stattools import pacf\n",
    "from statsmodels.tsa.stattools import acf\n",
    "from statsmodels.tsa.arima_model import ARIMA"
   ]
  },
  {
   "cell_type": "code",
   "execution_count": 2,
   "metadata": {},
   "outputs": [
    {
     "data": {
      "text/html": [
       "<div>\n",
       "<style scoped>\n",
       "    .dataframe tbody tr th:only-of-type {\n",
       "        vertical-align: middle;\n",
       "    }\n",
       "\n",
       "    .dataframe tbody tr th {\n",
       "        vertical-align: top;\n",
       "    }\n",
       "\n",
       "    .dataframe thead th {\n",
       "        text-align: right;\n",
       "    }\n",
       "</style>\n",
       "<table border=\"1\" class=\"dataframe\">\n",
       "  <thead>\n",
       "    <tr style=\"text-align: right;\">\n",
       "      <th></th>\n",
       "      <th>date</th>\n",
       "      <th>open</th>\n",
       "      <th>high</th>\n",
       "      <th>low</th>\n",
       "      <th>close</th>\n",
       "      <th>volume</th>\n",
       "      <th>Name</th>\n",
       "    </tr>\n",
       "  </thead>\n",
       "  <tbody>\n",
       "    <tr>\n",
       "      <th>0</th>\n",
       "      <td>2013-02-08</td>\n",
       "      <td>15.07</td>\n",
       "      <td>15.12</td>\n",
       "      <td>14.63</td>\n",
       "      <td>14.75</td>\n",
       "      <td>8407500</td>\n",
       "      <td>AAL</td>\n",
       "    </tr>\n",
       "    <tr>\n",
       "      <th>1</th>\n",
       "      <td>2013-02-11</td>\n",
       "      <td>14.89</td>\n",
       "      <td>15.01</td>\n",
       "      <td>14.26</td>\n",
       "      <td>14.46</td>\n",
       "      <td>8882000</td>\n",
       "      <td>AAL</td>\n",
       "    </tr>\n",
       "    <tr>\n",
       "      <th>2</th>\n",
       "      <td>2013-02-12</td>\n",
       "      <td>14.45</td>\n",
       "      <td>14.51</td>\n",
       "      <td>14.10</td>\n",
       "      <td>14.27</td>\n",
       "      <td>8126000</td>\n",
       "      <td>AAL</td>\n",
       "    </tr>\n",
       "    <tr>\n",
       "      <th>3</th>\n",
       "      <td>2013-02-13</td>\n",
       "      <td>14.30</td>\n",
       "      <td>14.94</td>\n",
       "      <td>14.25</td>\n",
       "      <td>14.66</td>\n",
       "      <td>10259500</td>\n",
       "      <td>AAL</td>\n",
       "    </tr>\n",
       "    <tr>\n",
       "      <th>4</th>\n",
       "      <td>2013-02-14</td>\n",
       "      <td>14.94</td>\n",
       "      <td>14.96</td>\n",
       "      <td>13.16</td>\n",
       "      <td>13.99</td>\n",
       "      <td>31879900</td>\n",
       "      <td>AAL</td>\n",
       "    </tr>\n",
       "  </tbody>\n",
       "</table>\n",
       "</div>"
      ],
      "text/plain": [
       "         date   open   high    low  close    volume Name\n",
       "0  2013-02-08  15.07  15.12  14.63  14.75   8407500  AAL\n",
       "1  2013-02-11  14.89  15.01  14.26  14.46   8882000  AAL\n",
       "2  2013-02-12  14.45  14.51  14.10  14.27   8126000  AAL\n",
       "3  2013-02-13  14.30  14.94  14.25  14.66  10259500  AAL\n",
       "4  2013-02-14  14.94  14.96  13.16  13.99  31879900  AAL"
      ]
     },
     "execution_count": 2,
     "metadata": {},
     "output_type": "execute_result"
    }
   ],
   "source": [
    "df=pd.read_csv('all_stocks_5yr.csv')\n",
    "df.head()"
   ]
  },
  {
   "cell_type": "code",
   "execution_count": 3,
   "metadata": {},
   "outputs": [
    {
     "data": {
      "text/html": [
       "<div>\n",
       "<style scoped>\n",
       "    .dataframe tbody tr th:only-of-type {\n",
       "        vertical-align: middle;\n",
       "    }\n",
       "\n",
       "    .dataframe tbody tr th {\n",
       "        vertical-align: top;\n",
       "    }\n",
       "\n",
       "    .dataframe thead th {\n",
       "        text-align: right;\n",
       "    }\n",
       "</style>\n",
       "<table border=\"1\" class=\"dataframe\">\n",
       "  <thead>\n",
       "    <tr style=\"text-align: right;\">\n",
       "      <th></th>\n",
       "      <th>0</th>\n",
       "      <th>1</th>\n",
       "      <th>2</th>\n",
       "      <th>3</th>\n",
       "      <th>4</th>\n",
       "      <th>5</th>\n",
       "      <th>6</th>\n",
       "      <th>7</th>\n",
       "      <th>8</th>\n",
       "      <th>9</th>\n",
       "      <th>...</th>\n",
       "      <th>619030</th>\n",
       "      <th>619031</th>\n",
       "      <th>619032</th>\n",
       "      <th>619033</th>\n",
       "      <th>619034</th>\n",
       "      <th>619035</th>\n",
       "      <th>619036</th>\n",
       "      <th>619037</th>\n",
       "      <th>619038</th>\n",
       "      <th>619039</th>\n",
       "    </tr>\n",
       "  </thead>\n",
       "  <tbody>\n",
       "    <tr>\n",
       "      <th>date</th>\n",
       "      <td>2013-02-08</td>\n",
       "      <td>2013-02-11</td>\n",
       "      <td>2013-02-12</td>\n",
       "      <td>2013-02-13</td>\n",
       "      <td>2013-02-14</td>\n",
       "      <td>2013-02-15</td>\n",
       "      <td>2013-02-19</td>\n",
       "      <td>2013-02-20</td>\n",
       "      <td>2013-02-21</td>\n",
       "      <td>2013-02-22</td>\n",
       "      <td>...</td>\n",
       "      <td>2018-01-25</td>\n",
       "      <td>2018-01-26</td>\n",
       "      <td>2018-01-29</td>\n",
       "      <td>2018-01-30</td>\n",
       "      <td>2018-01-31</td>\n",
       "      <td>2018-02-01</td>\n",
       "      <td>2018-02-02</td>\n",
       "      <td>2018-02-05</td>\n",
       "      <td>2018-02-06</td>\n",
       "      <td>2018-02-07</td>\n",
       "    </tr>\n",
       "    <tr>\n",
       "      <th>open</th>\n",
       "      <td>15.07</td>\n",
       "      <td>14.89</td>\n",
       "      <td>14.45</td>\n",
       "      <td>14.3</td>\n",
       "      <td>14.94</td>\n",
       "      <td>13.93</td>\n",
       "      <td>14.33</td>\n",
       "      <td>14.17</td>\n",
       "      <td>13.62</td>\n",
       "      <td>13.57</td>\n",
       "      <td>...</td>\n",
       "      <td>78.47</td>\n",
       "      <td>79.49</td>\n",
       "      <td>79.81</td>\n",
       "      <td>78.44</td>\n",
       "      <td>78.49</td>\n",
       "      <td>76.84</td>\n",
       "      <td>77.53</td>\n",
       "      <td>76.64</td>\n",
       "      <td>72.74</td>\n",
       "      <td>72.7</td>\n",
       "    </tr>\n",
       "    <tr>\n",
       "      <th>high</th>\n",
       "      <td>15.12</td>\n",
       "      <td>15.01</td>\n",
       "      <td>14.51</td>\n",
       "      <td>14.94</td>\n",
       "      <td>14.96</td>\n",
       "      <td>14.61</td>\n",
       "      <td>14.56</td>\n",
       "      <td>14.26</td>\n",
       "      <td>13.95</td>\n",
       "      <td>13.6</td>\n",
       "      <td>...</td>\n",
       "      <td>79.38</td>\n",
       "      <td>80.13</td>\n",
       "      <td>79.95</td>\n",
       "      <td>78.69</td>\n",
       "      <td>78.77</td>\n",
       "      <td>78.27</td>\n",
       "      <td>78.12</td>\n",
       "      <td>76.92</td>\n",
       "      <td>74.56</td>\n",
       "      <td>75</td>\n",
       "    </tr>\n",
       "    <tr>\n",
       "      <th>low</th>\n",
       "      <td>14.63</td>\n",
       "      <td>14.26</td>\n",
       "      <td>14.1</td>\n",
       "      <td>14.25</td>\n",
       "      <td>13.16</td>\n",
       "      <td>13.93</td>\n",
       "      <td>14.08</td>\n",
       "      <td>13.15</td>\n",
       "      <td>12.9</td>\n",
       "      <td>13.21</td>\n",
       "      <td>...</td>\n",
       "      <td>78.345</td>\n",
       "      <td>79.38</td>\n",
       "      <td>79.11</td>\n",
       "      <td>77.91</td>\n",
       "      <td>76.54</td>\n",
       "      <td>76.69</td>\n",
       "      <td>76.73</td>\n",
       "      <td>73.18</td>\n",
       "      <td>72.13</td>\n",
       "      <td>72.69</td>\n",
       "    </tr>\n",
       "    <tr>\n",
       "      <th>close</th>\n",
       "      <td>14.75</td>\n",
       "      <td>14.46</td>\n",
       "      <td>14.27</td>\n",
       "      <td>14.66</td>\n",
       "      <td>13.99</td>\n",
       "      <td>14.5</td>\n",
       "      <td>14.26</td>\n",
       "      <td>13.33</td>\n",
       "      <td>13.37</td>\n",
       "      <td>13.57</td>\n",
       "      <td>...</td>\n",
       "      <td>79.25</td>\n",
       "      <td>80.09</td>\n",
       "      <td>79.18</td>\n",
       "      <td>78.35</td>\n",
       "      <td>76.73</td>\n",
       "      <td>77.82</td>\n",
       "      <td>76.78</td>\n",
       "      <td>73.83</td>\n",
       "      <td>73.27</td>\n",
       "      <td>73.86</td>\n",
       "    </tr>\n",
       "    <tr>\n",
       "      <th>volume</th>\n",
       "      <td>8407500</td>\n",
       "      <td>8882000</td>\n",
       "      <td>8126000</td>\n",
       "      <td>10259500</td>\n",
       "      <td>31879900</td>\n",
       "      <td>15628000</td>\n",
       "      <td>11354400</td>\n",
       "      <td>14725200</td>\n",
       "      <td>11922100</td>\n",
       "      <td>6071400</td>\n",
       "      <td>...</td>\n",
       "      <td>2327262</td>\n",
       "      <td>2532808</td>\n",
       "      <td>2662383</td>\n",
       "      <td>3808707</td>\n",
       "      <td>4136360</td>\n",
       "      <td>2982259</td>\n",
       "      <td>2595187</td>\n",
       "      <td>2962031</td>\n",
       "      <td>4924323</td>\n",
       "      <td>4534912</td>\n",
       "    </tr>\n",
       "    <tr>\n",
       "      <th>Name</th>\n",
       "      <td>AAL</td>\n",
       "      <td>AAL</td>\n",
       "      <td>AAL</td>\n",
       "      <td>AAL</td>\n",
       "      <td>AAL</td>\n",
       "      <td>AAL</td>\n",
       "      <td>AAL</td>\n",
       "      <td>AAL</td>\n",
       "      <td>AAL</td>\n",
       "      <td>AAL</td>\n",
       "      <td>...</td>\n",
       "      <td>ZTS</td>\n",
       "      <td>ZTS</td>\n",
       "      <td>ZTS</td>\n",
       "      <td>ZTS</td>\n",
       "      <td>ZTS</td>\n",
       "      <td>ZTS</td>\n",
       "      <td>ZTS</td>\n",
       "      <td>ZTS</td>\n",
       "      <td>ZTS</td>\n",
       "      <td>ZTS</td>\n",
       "    </tr>\n",
       "  </tbody>\n",
       "</table>\n",
       "<p>7 rows × 619040 columns</p>\n",
       "</div>"
      ],
      "text/plain": [
       "            0           1           2           3           4       \\\n",
       "date    2013-02-08  2013-02-11  2013-02-12  2013-02-13  2013-02-14   \n",
       "open         15.07       14.89       14.45        14.3       14.94   \n",
       "high         15.12       15.01       14.51       14.94       14.96   \n",
       "low          14.63       14.26        14.1       14.25       13.16   \n",
       "close        14.75       14.46       14.27       14.66       13.99   \n",
       "volume     8407500     8882000     8126000    10259500    31879900   \n",
       "Name           AAL         AAL         AAL         AAL         AAL   \n",
       "\n",
       "            5           6           7           8           9       ...  \\\n",
       "date    2013-02-15  2013-02-19  2013-02-20  2013-02-21  2013-02-22  ...   \n",
       "open         13.93       14.33       14.17       13.62       13.57  ...   \n",
       "high         14.61       14.56       14.26       13.95        13.6  ...   \n",
       "low          13.93       14.08       13.15        12.9       13.21  ...   \n",
       "close         14.5       14.26       13.33       13.37       13.57  ...   \n",
       "volume    15628000    11354400    14725200    11922100     6071400  ...   \n",
       "Name           AAL         AAL         AAL         AAL         AAL  ...   \n",
       "\n",
       "            619030      619031      619032      619033      619034  \\\n",
       "date    2018-01-25  2018-01-26  2018-01-29  2018-01-30  2018-01-31   \n",
       "open         78.47       79.49       79.81       78.44       78.49   \n",
       "high         79.38       80.13       79.95       78.69       78.77   \n",
       "low         78.345       79.38       79.11       77.91       76.54   \n",
       "close        79.25       80.09       79.18       78.35       76.73   \n",
       "volume     2327262     2532808     2662383     3808707     4136360   \n",
       "Name           ZTS         ZTS         ZTS         ZTS         ZTS   \n",
       "\n",
       "            619035      619036      619037      619038      619039  \n",
       "date    2018-02-01  2018-02-02  2018-02-05  2018-02-06  2018-02-07  \n",
       "open         76.84       77.53       76.64       72.74        72.7  \n",
       "high         78.27       78.12       76.92       74.56          75  \n",
       "low          76.69       76.73       73.18       72.13       72.69  \n",
       "close        77.82       76.78       73.83       73.27       73.86  \n",
       "volume     2982259     2595187     2962031     4924323     4534912  \n",
       "Name           ZTS         ZTS         ZTS         ZTS         ZTS  \n",
       "\n",
       "[7 rows x 619040 columns]"
      ]
     },
     "execution_count": 3,
     "metadata": {},
     "output_type": "execute_result"
    }
   ],
   "source": [
    "df.transpose()"
   ]
  },
  {
   "cell_type": "code",
   "execution_count": 4,
   "metadata": {},
   "outputs": [
    {
     "data": {
      "text/plain": [
       "(619040, 7)"
      ]
     },
     "execution_count": 4,
     "metadata": {},
     "output_type": "execute_result"
    }
   ],
   "source": [
    "df.shape"
   ]
  },
  {
   "cell_type": "code",
   "execution_count": 5,
   "metadata": {},
   "outputs": [
    {
     "name": "stdout",
     "output_type": "stream",
     "text": [
      "<class 'pandas.core.frame.DataFrame'>\n",
      "RangeIndex: 619040 entries, 0 to 619039\n",
      "Data columns (total 7 columns):\n",
      " #   Column  Non-Null Count   Dtype  \n",
      "---  ------  --------------   -----  \n",
      " 0   date    619040 non-null  object \n",
      " 1   open    619029 non-null  float64\n",
      " 2   high    619032 non-null  float64\n",
      " 3   low     619032 non-null  float64\n",
      " 4   close   619040 non-null  float64\n",
      " 5   volume  619040 non-null  int64  \n",
      " 6   Name    619040 non-null  object \n",
      "dtypes: float64(4), int64(1), object(2)\n",
      "memory usage: 33.1+ MB\n"
     ]
    }
   ],
   "source": [
    "df.info()"
   ]
  },
  {
   "cell_type": "code",
   "execution_count": 6,
   "metadata": {},
   "outputs": [],
   "source": [
    "#Converting pickup_datetime and dropoff_datetime into proper data format\n",
    "df['date']=pd.to_datetime(df['date'])"
   ]
  },
  {
   "cell_type": "code",
   "execution_count": 7,
   "metadata": {},
   "outputs": [
    {
     "data": {
      "text/plain": [
       "date      datetime64[ns]\n",
       "open             float64\n",
       "high             float64\n",
       "low              float64\n",
       "close            float64\n",
       "volume             int64\n",
       "Name              object\n",
       "dtype: object"
      ]
     },
     "execution_count": 7,
     "metadata": {},
     "output_type": "execute_result"
    }
   ],
   "source": [
    "df.dtypes"
   ]
  },
  {
   "cell_type": "code",
   "execution_count": 8,
   "metadata": {},
   "outputs": [
    {
     "data": {
      "text/plain": [
       "date       0\n",
       "open      11\n",
       "high       8\n",
       "low        8\n",
       "close      0\n",
       "volume     0\n",
       "Name       0\n",
       "dtype: int64"
      ]
     },
     "execution_count": 8,
     "metadata": {},
     "output_type": "execute_result"
    }
   ],
   "source": [
    "df.isnull().sum()"
   ]
  },
  {
   "cell_type": "code",
   "execution_count": 9,
   "metadata": {},
   "outputs": [],
   "source": [
    "#FIlling Missing values\n",
    "df['open'].fillna(df.open.mean(), inplace=True)\n",
    "df['high'].fillna(df.high.mean(), inplace=True)\n",
    "df['low'].fillna(df.low.mean(), inplace=True)"
   ]
  },
  {
   "cell_type": "code",
   "execution_count": 10,
   "metadata": {},
   "outputs": [
    {
     "data": {
      "text/plain": [
       "date      0\n",
       "open      0\n",
       "high      0\n",
       "low       0\n",
       "close     0\n",
       "volume    0\n",
       "Name      0\n",
       "dtype: int64"
      ]
     },
     "execution_count": 10,
     "metadata": {},
     "output_type": "execute_result"
    }
   ],
   "source": [
    "df.isnull().sum()"
   ]
  },
  {
   "cell_type": "code",
   "execution_count": 11,
   "metadata": {},
   "outputs": [
    {
     "name": "stdout",
     "output_type": "stream",
     "text": [
      "0\n"
     ]
    }
   ],
   "source": [
    "print(df.duplicated().sum())"
   ]
  },
  {
   "cell_type": "code",
   "execution_count": 12,
   "metadata": {},
   "outputs": [
    {
     "data": {
      "image/png": "[encoded data removed]",
      "text/plain": [
       "<Figure size 432x288 with 1 Axes>"
      ]
     },
     "metadata": {
      "needs_background": "light"
     },
     "output_type": "display_data"
    }
   ],
   "source": [
    "#Checking outliers\n",
    "plt.boxplot(df[\"volume\"])\n",
    "plt.show()"
   ]
  },
  {
   "cell_type": "code",
   "execution_count": 13,
   "metadata": {},
   "outputs": [
    {
     "name": "stdout",
     "output_type": "stream",
     "text": [
      "614901.9\n",
      "8853663.599999998\n"
     ]
    }
   ],
   "source": [
    "#removing outliers\n",
    "print(df['volume'].quantile(0.10))\n",
    "print(df['volume'].quantile(0.90))"
   ]
  },
  {
   "cell_type": "code",
   "execution_count": 14,
   "metadata": {},
   "outputs": [],
   "source": [
    "df['year'] = df['date'].dt.year\n",
    "df['month'] = df['date'].dt.month_name()\n",
    "df['day'] = df['date'].dt.day_name()"
   ]
  },
  {
   "cell_type": "code",
   "execution_count": 15,
   "metadata": {},
   "outputs": [
    {
     "data": {
      "text/html": [
       "<div>\n",
       "<style scoped>\n",
       "    .dataframe tbody tr th:only-of-type {\n",
       "        vertical-align: middle;\n",
       "    }\n",
       "\n",
       "    .dataframe tbody tr th {\n",
       "        vertical-align: top;\n",
       "    }\n",
       "\n",
       "    .dataframe thead th {\n",
       "        text-align: right;\n",
       "    }\n",
       "</style>\n",
       "<table border=\"1\" class=\"dataframe\">\n",
       "  <thead>\n",
       "    <tr style=\"text-align: right;\">\n",
       "      <th></th>\n",
       "      <th>date</th>\n",
       "      <th>open</th>\n",
       "      <th>high</th>\n",
       "      <th>low</th>\n",
       "      <th>close</th>\n",
       "      <th>volume</th>\n",
       "      <th>Name</th>\n",
       "      <th>year</th>\n",
       "      <th>month</th>\n",
       "      <th>day</th>\n",
       "    </tr>\n",
       "  </thead>\n",
       "  <tbody>\n",
       "    <tr>\n",
       "      <th>0</th>\n",
       "      <td>2013-02-08</td>\n",
       "      <td>15.07</td>\n",
       "      <td>15.12</td>\n",
       "      <td>14.63</td>\n",
       "      <td>14.75</td>\n",
       "      <td>8407500</td>\n",
       "      <td>AAL</td>\n",
       "      <td>2013</td>\n",
       "      <td>February</td>\n",
       "      <td>Friday</td>\n",
       "    </tr>\n",
       "    <tr>\n",
       "      <th>1</th>\n",
       "      <td>2013-02-11</td>\n",
       "      <td>14.89</td>\n",
       "      <td>15.01</td>\n",
       "      <td>14.26</td>\n",
       "      <td>14.46</td>\n",
       "      <td>8882000</td>\n",
       "      <td>AAL</td>\n",
       "      <td>2013</td>\n",
       "      <td>February</td>\n",
       "      <td>Monday</td>\n",
       "    </tr>\n",
       "    <tr>\n",
       "      <th>2</th>\n",
       "      <td>2013-02-12</td>\n",
       "      <td>14.45</td>\n",
       "      <td>14.51</td>\n",
       "      <td>14.10</td>\n",
       "      <td>14.27</td>\n",
       "      <td>8126000</td>\n",
       "      <td>AAL</td>\n",
       "      <td>2013</td>\n",
       "      <td>February</td>\n",
       "      <td>Tuesday</td>\n",
       "    </tr>\n",
       "    <tr>\n",
       "      <th>3</th>\n",
       "      <td>2013-02-13</td>\n",
       "      <td>14.30</td>\n",
       "      <td>14.94</td>\n",
       "      <td>14.25</td>\n",
       "      <td>14.66</td>\n",
       "      <td>10259500</td>\n",
       "      <td>AAL</td>\n",
       "      <td>2013</td>\n",
       "      <td>February</td>\n",
       "      <td>Wednesday</td>\n",
       "    </tr>\n",
       "    <tr>\n",
       "      <th>4</th>\n",
       "      <td>2013-02-14</td>\n",
       "      <td>14.94</td>\n",
       "      <td>14.96</td>\n",
       "      <td>13.16</td>\n",
       "      <td>13.99</td>\n",
       "      <td>31879900</td>\n",
       "      <td>AAL</td>\n",
       "      <td>2013</td>\n",
       "      <td>February</td>\n",
       "      <td>Thursday</td>\n",
       "    </tr>\n",
       "  </tbody>\n",
       "</table>\n",
       "</div>"
      ],
      "text/plain": [
       "        date   open   high    low  close    volume Name  year     month  \\\n",
       "0 2013-02-08  15.07  15.12  14.63  14.75   8407500  AAL  2013  February   \n",
       "1 2013-02-11  14.89  15.01  14.26  14.46   8882000  AAL  2013  February   \n",
       "2 2013-02-12  14.45  14.51  14.10  14.27   8126000  AAL  2013  February   \n",
       "3 2013-02-13  14.30  14.94  14.25  14.66  10259500  AAL  2013  February   \n",
       "4 2013-02-14  14.94  14.96  13.16  13.99  31879900  AAL  2013  February   \n",
       "\n",
       "         day  \n",
       "0     Friday  \n",
       "1     Monday  \n",
       "2    Tuesday  \n",
       "3  Wednesday  \n",
       "4   Thursday  "
      ]
     },
     "execution_count": 15,
     "metadata": {},
     "output_type": "execute_result"
    }
   ],
   "source": [
    "df.head()"
   ]
  },
  {
   "cell_type": "code",
   "execution_count": 16,
   "metadata": {},
   "outputs": [],
   "source": [
    "#How many months/years of data is provided?\n"
   ]
  },
  {
   "cell_type": "code",
   "execution_count": 17,
   "metadata": {},
   "outputs": [
    {
     "data": {
      "text/plain": [
       "2017    126032\n",
       "2016    125324\n",
       "2015    123719\n",
       "2014    122397\n",
       "2013    108438\n",
       "2018     13130\n",
       "Name: year, dtype: int64"
      ]
     },
     "execution_count": 17,
     "metadata": {},
     "output_type": "execute_result"
    }
   ],
   "source": [
    "df['year'].value_counts()"
   ]
  },
  {
   "cell_type": "code",
   "execution_count": 18,
   "metadata": {},
   "outputs": [
    {
     "data": {
      "text/plain": [
       "October      54700\n",
       "August       54186\n",
       "March        52806\n",
       "June         52492\n",
       "December     52345\n",
       "July         52125\n",
       "May          51912\n",
       "April        50861\n",
       "September    50733\n",
       "January      49950\n",
       "November     49853\n",
       "February     47077\n",
       "Name: month, dtype: int64"
      ]
     },
     "execution_count": 18,
     "metadata": {},
     "output_type": "execute_result"
    }
   ],
   "source": [
    "df['month'].value_counts()"
   ]
  },
  {
   "cell_type": "code",
   "execution_count": 19,
   "metadata": {},
   "outputs": [
    {
     "data": {
      "text/plain": [
       "505"
      ]
     },
     "execution_count": 19,
     "metadata": {},
     "output_type": "execute_result"
    }
   ],
   "source": [
    "#How many number of stocks?\n",
    "df['Name'].nunique()"
   ]
  },
  {
   "cell_type": "code",
   "execution_count": 20,
   "metadata": {},
   "outputs": [
    {
     "data": {
      "text/html": [
       "<div>\n",
       "<style scoped>\n",
       "    .dataframe tbody tr th:only-of-type {\n",
       "        vertical-align: middle;\n",
       "    }\n",
       "\n",
       "    .dataframe tbody tr th {\n",
       "        vertical-align: top;\n",
       "    }\n",
       "\n",
       "    .dataframe thead th {\n",
       "        text-align: right;\n",
       "    }\n",
       "</style>\n",
       "<table border=\"1\" class=\"dataframe\">\n",
       "  <thead>\n",
       "    <tr style=\"text-align: right;\">\n",
       "      <th></th>\n",
       "      <th>count</th>\n",
       "      <th>mean</th>\n",
       "      <th>std</th>\n",
       "      <th>min</th>\n",
       "      <th>25%</th>\n",
       "      <th>50%</th>\n",
       "      <th>75%</th>\n",
       "      <th>max</th>\n",
       "    </tr>\n",
       "  </thead>\n",
       "  <tbody>\n",
       "    <tr>\n",
       "      <th>open</th>\n",
       "      <td>619040.0</td>\n",
       "      <td>8.302333e+01</td>\n",
       "      <td>9.737790e+01</td>\n",
       "      <td>1.62</td>\n",
       "      <td>40.220</td>\n",
       "      <td>62.59</td>\n",
       "      <td>9.437000e+01</td>\n",
       "      <td>2.044000e+03</td>\n",
       "    </tr>\n",
       "    <tr>\n",
       "      <th>high</th>\n",
       "      <td>619040.0</td>\n",
       "      <td>8.377831e+01</td>\n",
       "      <td>9.820688e+01</td>\n",
       "      <td>1.69</td>\n",
       "      <td>40.620</td>\n",
       "      <td>63.15</td>\n",
       "      <td>9.518000e+01</td>\n",
       "      <td>2.067990e+03</td>\n",
       "    </tr>\n",
       "    <tr>\n",
       "      <th>low</th>\n",
       "      <td>619040.0</td>\n",
       "      <td>8.225610e+01</td>\n",
       "      <td>9.650680e+01</td>\n",
       "      <td>1.50</td>\n",
       "      <td>39.830</td>\n",
       "      <td>62.02</td>\n",
       "      <td>9.353538e+01</td>\n",
       "      <td>2.035110e+03</td>\n",
       "    </tr>\n",
       "    <tr>\n",
       "      <th>close</th>\n",
       "      <td>619040.0</td>\n",
       "      <td>8.304376e+01</td>\n",
       "      <td>9.738975e+01</td>\n",
       "      <td>1.59</td>\n",
       "      <td>40.245</td>\n",
       "      <td>62.62</td>\n",
       "      <td>9.441000e+01</td>\n",
       "      <td>2.049000e+03</td>\n",
       "    </tr>\n",
       "    <tr>\n",
       "      <th>volume</th>\n",
       "      <td>619040.0</td>\n",
       "      <td>4.321823e+06</td>\n",
       "      <td>8.693610e+06</td>\n",
       "      <td>0.00</td>\n",
       "      <td>1070320.500</td>\n",
       "      <td>2082093.50</td>\n",
       "      <td>4.284509e+06</td>\n",
       "      <td>6.182376e+08</td>\n",
       "    </tr>\n",
       "    <tr>\n",
       "      <th>year</th>\n",
       "      <td>619040.0</td>\n",
       "      <td>2.015125e+03</td>\n",
       "      <td>1.445837e+00</td>\n",
       "      <td>2013.00</td>\n",
       "      <td>2014.000</td>\n",
       "      <td>2015.00</td>\n",
       "      <td>2.016000e+03</td>\n",
       "      <td>2.018000e+03</td>\n",
       "    </tr>\n",
       "  </tbody>\n",
       "</table>\n",
       "</div>"
      ],
      "text/plain": [
       "           count          mean           std      min          25%  \\\n",
       "open    619040.0  8.302333e+01  9.737790e+01     1.62       40.220   \n",
       "high    619040.0  8.377831e+01  9.820688e+01     1.69       40.620   \n",
       "low     619040.0  8.225610e+01  9.650680e+01     1.50       39.830   \n",
       "close   619040.0  8.304376e+01  9.738975e+01     1.59       40.245   \n",
       "volume  619040.0  4.321823e+06  8.693610e+06     0.00  1070320.500   \n",
       "year    619040.0  2.015125e+03  1.445837e+00  2013.00     2014.000   \n",
       "\n",
       "               50%           75%           max  \n",
       "open         62.59  9.437000e+01  2.044000e+03  \n",
       "high         63.15  9.518000e+01  2.067990e+03  \n",
       "low          62.02  9.353538e+01  2.035110e+03  \n",
       "close        62.62  9.441000e+01  2.049000e+03  \n",
       "volume  2082093.50  4.284509e+06  6.182376e+08  \n",
       "year       2015.00  2.016000e+03  2.018000e+03  "
      ]
     },
     "execution_count": 20,
     "metadata": {},
     "output_type": "execute_result"
    }
   ],
   "source": [
    "df.describe().T"
   ]
  },
  {
   "cell_type": "code",
   "execution_count": 21,
   "metadata": {},
   "outputs": [
    {
     "data": {
      "text/html": [
       "<div>\n",
       "<style scoped>\n",
       "    .dataframe tbody tr th:only-of-type {\n",
       "        vertical-align: middle;\n",
       "    }\n",
       "\n",
       "    .dataframe tbody tr th {\n",
       "        vertical-align: top;\n",
       "    }\n",
       "\n",
       "    .dataframe thead th {\n",
       "        text-align: right;\n",
       "    }\n",
       "</style>\n",
       "<table border=\"1\" class=\"dataframe\">\n",
       "  <thead>\n",
       "    <tr style=\"text-align: right;\">\n",
       "      <th></th>\n",
       "      <th>open</th>\n",
       "      <th>high</th>\n",
       "      <th>low</th>\n",
       "      <th>close</th>\n",
       "      <th>volume</th>\n",
       "      <th>year</th>\n",
       "    </tr>\n",
       "  </thead>\n",
       "  <tbody>\n",
       "    <tr>\n",
       "      <th>count</th>\n",
       "      <td>619040.000000</td>\n",
       "      <td>619040.000000</td>\n",
       "      <td>619040.000000</td>\n",
       "      <td>619040.000000</td>\n",
       "      <td>6.190400e+05</td>\n",
       "      <td>619040.000000</td>\n",
       "    </tr>\n",
       "    <tr>\n",
       "      <th>mean</th>\n",
       "      <td>83.023334</td>\n",
       "      <td>83.778311</td>\n",
       "      <td>82.256096</td>\n",
       "      <td>83.043763</td>\n",
       "      <td>4.321823e+06</td>\n",
       "      <td>2015.125202</td>\n",
       "    </tr>\n",
       "    <tr>\n",
       "      <th>std</th>\n",
       "      <td>97.377904</td>\n",
       "      <td>98.206884</td>\n",
       "      <td>96.506797</td>\n",
       "      <td>97.389748</td>\n",
       "      <td>8.693610e+06</td>\n",
       "      <td>1.445837</td>\n",
       "    </tr>\n",
       "    <tr>\n",
       "      <th>min</th>\n",
       "      <td>1.620000</td>\n",
       "      <td>1.690000</td>\n",
       "      <td>1.500000</td>\n",
       "      <td>1.590000</td>\n",
       "      <td>0.000000e+00</td>\n",
       "      <td>2013.000000</td>\n",
       "    </tr>\n",
       "    <tr>\n",
       "      <th>25%</th>\n",
       "      <td>40.220000</td>\n",
       "      <td>40.620000</td>\n",
       "      <td>39.830000</td>\n",
       "      <td>40.245000</td>\n",
       "      <td>1.070320e+06</td>\n",
       "      <td>2014.000000</td>\n",
       "    </tr>\n",
       "    <tr>\n",
       "      <th>50%</th>\n",
       "      <td>62.590000</td>\n",
       "      <td>63.150000</td>\n",
       "      <td>62.020000</td>\n",
       "      <td>62.620000</td>\n",
       "      <td>2.082094e+06</td>\n",
       "      <td>2015.000000</td>\n",
       "    </tr>\n",
       "    <tr>\n",
       "      <th>75%</th>\n",
       "      <td>94.370000</td>\n",
       "      <td>95.180000</td>\n",
       "      <td>93.535375</td>\n",
       "      <td>94.410000</td>\n",
       "      <td>4.284509e+06</td>\n",
       "      <td>2016.000000</td>\n",
       "    </tr>\n",
       "    <tr>\n",
       "      <th>max</th>\n",
       "      <td>2044.000000</td>\n",
       "      <td>2067.990000</td>\n",
       "      <td>2035.110000</td>\n",
       "      <td>2049.000000</td>\n",
       "      <td>6.182376e+08</td>\n",
       "      <td>2018.000000</td>\n",
       "    </tr>\n",
       "  </tbody>\n",
       "</table>\n",
       "</div>"
      ],
      "text/plain": [
       "                open           high            low          close  \\\n",
       "count  619040.000000  619040.000000  619040.000000  619040.000000   \n",
       "mean       83.023334      83.778311      82.256096      83.043763   \n",
       "std        97.377904      98.206884      96.506797      97.389748   \n",
       "min         1.620000       1.690000       1.500000       1.590000   \n",
       "25%        40.220000      40.620000      39.830000      40.245000   \n",
       "50%        62.590000      63.150000      62.020000      62.620000   \n",
       "75%        94.370000      95.180000      93.535375      94.410000   \n",
       "max      2044.000000    2067.990000    2035.110000    2049.000000   \n",
       "\n",
       "             volume           year  \n",
       "count  6.190400e+05  619040.000000  \n",
       "mean   4.321823e+06    2015.125202  \n",
       "std    8.693610e+06       1.445837  \n",
       "min    0.000000e+00    2013.000000  \n",
       "25%    1.070320e+06    2014.000000  \n",
       "50%    2.082094e+06    2015.000000  \n",
       "75%    4.284509e+06    2016.000000  \n",
       "max    6.182376e+08    2018.000000  "
      ]
     },
     "execution_count": 21,
     "metadata": {},
     "output_type": "execute_result"
    }
   ],
   "source": [
    "df.describe()"
   ]
  },
  {
   "cell_type": "code",
   "execution_count": 22,
   "metadata": {},
   "outputs": [
    {
     "data": {
      "image/png": "[encoded data removed]",
      "text/plain": [
       "<Figure size 720x288 with 1 Axes>"
      ]
     },
     "metadata": {
      "needs_background": "light"
     },
     "output_type": "display_data"
    }
   ],
   "source": [
    "df.plot(x='date', y='close',legend=True,figsize=(10,4))\n",
    "plt.ioff()"
   ]
  },
  {
   "cell_type": "code",
   "execution_count": 23,
   "metadata": {},
   "outputs": [
    {
     "data": {
      "image/png": "[encoded data removed]",
      "text/plain": [
       "<Figure size 720x288 with 1 Axes>"
      ]
     },
     "metadata": {
      "needs_background": "light"
     },
     "output_type": "display_data"
    }
   ],
   "source": [
    "#Volume traded for Apple Stock\n",
    "\n",
    "title='VOLUME TRADED'\n",
    "ylabel='Volume'\n",
    "xlabel='Time'\n",
    "\n",
    "ax=df.plot(x='date', y='volume',legend=True,figsize=(10,4));\n",
    "ax.autoscale(axis='x',tight=True)  # use both if want to scale both axis\n",
    "ax.set(xlabel=xlabel,ylabel=ylabel)\n",
    "plt.ioff()"
   ]
  },
  {
   "cell_type": "code",
   "execution_count": 24,
   "metadata": {},
   "outputs": [
    {
     "data": {
      "image/png": "[encoded data removed]",
      "text/plain": [
       "<Figure size 1080x288 with 1 Axes>"
      ]
     },
     "metadata": {
      "needs_background": "light"
     },
     "output_type": "display_data"
    }
   ],
   "source": [
    "#Daily Returns\n",
    "\n",
    "df['Daily Return']=df['close'].pct_change()\n",
    "df['Daily Return'].plot(figsize=(15,4),legend=True,linestyle='--',marker='o')\n",
    "plt.ioff()"
   ]
  },
  {
   "cell_type": "code",
   "execution_count": 27,
   "metadata": {},
   "outputs": [
    {
     "data": {
      "text/html": [
       "<div>\n",
       "<style scoped>\n",
       "    .dataframe tbody tr th:only-of-type {\n",
       "        vertical-align: middle;\n",
       "    }\n",
       "\n",
       "    .dataframe tbody tr th {\n",
       "        vertical-align: top;\n",
       "    }\n",
       "\n",
       "    .dataframe thead th {\n",
       "        text-align: right;\n",
       "    }\n",
       "</style>\n",
       "<table border=\"1\" class=\"dataframe\">\n",
       "  <thead>\n",
       "    <tr style=\"text-align: right;\">\n",
       "      <th></th>\n",
       "      <th>date</th>\n",
       "      <th>close</th>\n",
       "    </tr>\n",
       "  </thead>\n",
       "  <tbody>\n",
       "    <tr>\n",
       "      <th>0</th>\n",
       "      <td>2013-02-08</td>\n",
       "      <td>14.75</td>\n",
       "    </tr>\n",
       "    <tr>\n",
       "      <th>508224</th>\n",
       "      <td>2013-02-08</td>\n",
       "      <td>81.89</td>\n",
       "    </tr>\n",
       "    <tr>\n",
       "      <th>506965</th>\n",
       "      <td>2013-02-08</td>\n",
       "      <td>79.07</td>\n",
       "    </tr>\n",
       "    <tr>\n",
       "      <th>85755</th>\n",
       "      <td>2013-02-08</td>\n",
       "      <td>238.16</td>\n",
       "    </tr>\n",
       "    <tr>\n",
       "      <th>505706</th>\n",
       "      <td>2013-02-08</td>\n",
       "      <td>89.16</td>\n",
       "    </tr>\n",
       "    <tr>\n",
       "      <th>...</th>\n",
       "      <td>...</td>\n",
       "      <td>...</td>\n",
       "    </tr>\n",
       "    <tr>\n",
       "      <th>147509</th>\n",
       "      <td>2018-02-07</td>\n",
       "      <td>52.97</td>\n",
       "    </tr>\n",
       "    <tr>\n",
       "      <th>31474</th>\n",
       "      <td>2018-02-07</td>\n",
       "      <td>106.63</td>\n",
       "    </tr>\n",
       "    <tr>\n",
       "      <th>241494</th>\n",
       "      <td>2018-02-07</td>\n",
       "      <td>10.76</td>\n",
       "    </tr>\n",
       "    <tr>\n",
       "      <th>42609</th>\n",
       "      <td>2018-02-07</td>\n",
       "      <td>177.47</td>\n",
       "    </tr>\n",
       "    <tr>\n",
       "      <th>619039</th>\n",
       "      <td>2018-02-07</td>\n",
       "      <td>73.86</td>\n",
       "    </tr>\n",
       "  </tbody>\n",
       "</table>\n",
       "<p>619040 rows × 2 columns</p>\n",
       "</div>"
      ],
      "text/plain": [
       "             date   close\n",
       "0      2013-02-08   14.75\n",
       "508224 2013-02-08   81.89\n",
       "506965 2013-02-08   79.07\n",
       "85755  2013-02-08  238.16\n",
       "505706 2013-02-08   89.16\n",
       "...           ...     ...\n",
       "147509 2018-02-07   52.97\n",
       "31474  2018-02-07  106.63\n",
       "241494 2018-02-07   10.76\n",
       "42609  2018-02-07  177.47\n",
       "619039 2018-02-07   73.86\n",
       "\n",
       "[619040 rows x 2 columns]"
      ]
     },
     "execution_count": 27,
     "metadata": {},
     "output_type": "execute_result"
    }
   ],
   "source": [
    "df_prophet=df[['date','close']]\n",
    "df_prophet=df_prophet.sort_values('date')\n",
    "df_prophet"
   ]
  },
  {
   "cell_type": "code",
   "execution_count": 28,
   "metadata": {},
   "outputs": [
    {
     "data": {
      "text/html": [
       "<div>\n",
       "<style scoped>\n",
       "    .dataframe tbody tr th:only-of-type {\n",
       "        vertical-align: middle;\n",
       "    }\n",
       "\n",
       "    .dataframe tbody tr th {\n",
       "        vertical-align: top;\n",
       "    }\n",
       "\n",
       "    .dataframe thead th {\n",
       "        text-align: right;\n",
       "    }\n",
       "</style>\n",
       "<table border=\"1\" class=\"dataframe\">\n",
       "  <thead>\n",
       "    <tr style=\"text-align: right;\">\n",
       "      <th></th>\n",
       "      <th>ds</th>\n",
       "      <th>y</th>\n",
       "    </tr>\n",
       "  </thead>\n",
       "  <tbody>\n",
       "    <tr>\n",
       "      <th>0</th>\n",
       "      <td>2013-02-08</td>\n",
       "      <td>14.75</td>\n",
       "    </tr>\n",
       "    <tr>\n",
       "      <th>508224</th>\n",
       "      <td>2013-02-08</td>\n",
       "      <td>81.89</td>\n",
       "    </tr>\n",
       "    <tr>\n",
       "      <th>506965</th>\n",
       "      <td>2013-02-08</td>\n",
       "      <td>79.07</td>\n",
       "    </tr>\n",
       "    <tr>\n",
       "      <th>85755</th>\n",
       "      <td>2013-02-08</td>\n",
       "      <td>238.16</td>\n",
       "    </tr>\n",
       "    <tr>\n",
       "      <th>505706</th>\n",
       "      <td>2013-02-08</td>\n",
       "      <td>89.16</td>\n",
       "    </tr>\n",
       "    <tr>\n",
       "      <th>...</th>\n",
       "      <td>...</td>\n",
       "      <td>...</td>\n",
       "    </tr>\n",
       "    <tr>\n",
       "      <th>147509</th>\n",
       "      <td>2018-02-07</td>\n",
       "      <td>52.97</td>\n",
       "    </tr>\n",
       "    <tr>\n",
       "      <th>31474</th>\n",
       "      <td>2018-02-07</td>\n",
       "      <td>106.63</td>\n",
       "    </tr>\n",
       "    <tr>\n",
       "      <th>241494</th>\n",
       "      <td>2018-02-07</td>\n",
       "      <td>10.76</td>\n",
       "    </tr>\n",
       "    <tr>\n",
       "      <th>42609</th>\n",
       "      <td>2018-02-07</td>\n",
       "      <td>177.47</td>\n",
       "    </tr>\n",
       "    <tr>\n",
       "      <th>619039</th>\n",
       "      <td>2018-02-07</td>\n",
       "      <td>73.86</td>\n",
       "    </tr>\n",
       "  </tbody>\n",
       "</table>\n",
       "<p>619040 rows × 2 columns</p>\n",
       "</div>"
      ],
      "text/plain": [
       "               ds       y\n",
       "0      2013-02-08   14.75\n",
       "508224 2013-02-08   81.89\n",
       "506965 2013-02-08   79.07\n",
       "85755  2013-02-08  238.16\n",
       "505706 2013-02-08   89.16\n",
       "...           ...     ...\n",
       "147509 2018-02-07   52.97\n",
       "31474  2018-02-07  106.63\n",
       "241494 2018-02-07   10.76\n",
       "42609  2018-02-07  177.47\n",
       "619039 2018-02-07   73.86\n",
       "\n",
       "[619040 rows x 2 columns]"
      ]
     },
     "execution_count": 28,
     "metadata": {},
     "output_type": "execute_result"
    }
   ],
   "source": [
    "#Renaiming the Column names to Suite Prophet Algorithm\n",
    "\n",
    "df_prophet=df_prophet.rename(columns={'date':'ds','close':'y'})\n",
    "df_prophet"
   ]
  },
  {
   "cell_type": "code",
   "execution_count": 29,
   "metadata": {},
   "outputs": [],
   "source": [
    "#conda install -c conda-forge fbprophet "
   ]
  },
  {
   "cell_type": "code",
   "execution_count": null,
   "metadata": {},
   "outputs": [
    {
     "name": "stderr",
     "output_type": "stream",
     "text": [
      "INFO:fbprophet:Disabling daily seasonality. Run prophet with daily_seasonality=True to override this.\n",
      "C:\\Users\\Fknjoroge\\AppData\\Local\\Continuum\\anaconda3\\lib\\site-packages\\pystan\\misc.py:399: FutureWarning: Conversion of the second argument of issubdtype from `float` to `np.floating` is deprecated. In future, it will be treated as `np.float64 == np.dtype(float).type`.\n",
      "  elif np.issubdtype(np.asarray(v).dtype, float):\n",
      "WARNING:fbprophet:Optimization terminated abnormally. Falling back to Newton.\n"
     ]
    }
   ],
   "source": [
    "import random \n",
    "import seaborn as sns\n",
    "from fbprophet import Prophet\n",
    "m=Prophet()\n",
    "m.fit(df_prophet)\n",
    "future=m.make_future_dataframe(periods=365)\n",
    "forecast=m.predict(future)\n",
    "forecast"
   ]
  },
  {
   "cell_type": "code",
   "execution_count": null,
   "metadata": {},
   "outputs": [],
   "source": [
    "#Plotting the Forecast for Period of One years\n",
    "figure=m.plot(forecast,xlabel='Date',ylabel='Closing Price')"
   ]
  },
  {
   "cell_type": "code",
   "execution_count": null,
   "metadata": {},
   "outputs": [],
   "source": [
    ".EDA with python?\n",
    "1.How many months/years of data is provided?\n",
    "2.How many number of stocks?\n",
    "3.Descriptive stats for each stock:\n",
    "a.Overall max, min, avg, sd, variance, quantile across the time period\n",
    "b.Day when it has reached the max\n",
    "c.Overall max, min, avg, sd, variance, quantile across the time period on daily returns, for this do daily difference\n",
    "d.Overall max, min, avg, sd, variance, quantile across the time period for number of shares sold\n",
    "4.Visualization:\n",
    "a.Time series plot for all the stocks\n",
    "b.Time series plot for all the stocks on returns\n",
    "c.Histogram plot for all the stocks, for this understand quantiles and do proper binning?\n",
    "d.Histogram plot for all the stock returns, for this understand quantiles and do proper binning?\n",
    "e.Time series plot for max, avg monthly for all stocks\n",
    "Scatter plot for number of shares sold vs value for each stock?\n",
    "Use some advanced packages to select the stock and visualize it.\n",
    "5.Find the max value of each stock per month and year and pivot it\n",
    "6.Find the avg value of each stock per year and pivot it\n",
    "7.Do a bar plot to understand number of stocks with different average returns, average values\n",
    "5.Repeat the same with power bi"
   ]
  }
 ],
 "metadata": {
  "kernelspec": {
   "display_name": "Python 3",
   "language": "python",
   "name": "python3"
  },
  "language_info": {
   "codemirror_mode": {
    "name": "ipython",
    "version": 3
   },
   "file_extension": ".py",
   "mimetype": "text/x-python",
   "name": "python",
   "nbconvert_exporter": "python",
   "pygments_lexer": "ipython3",
   "version": "3.7.3"
  }
 },
 "nbformat": 4,
 "nbformat_minor": 2
}
